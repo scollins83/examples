{
 "cells": [
  {
   "cell_type": "markdown",
   "metadata": {},
   "source": [
    "# PocketSphinx Speech Recognition"
   ]
  },
  {
   "cell_type": "markdown",
   "metadata": {},
   "source": [
    "#### This notebook makes an operational speech recognition example based upon the example given at https://github.com/cmusphinx/pocketsphinx-python"
   ]
  },
  {
   "cell_type": "code",
   "execution_count": 1,
   "metadata": {
    "collapsed": true
   },
   "outputs": [],
   "source": [
    "# Notebook by Sara Collins\n",
    "# Deviated from example toward end, but this was to make a string\n",
    "# out of the recognized words"
   ]
  },
  {
   "cell_type": "code",
   "execution_count": 2,
   "metadata": {
    "collapsed": true
   },
   "outputs": [],
   "source": [
    "# Import statements go here\n",
    "import pocketsphinx as ps\n",
    "import sphinxbase\n",
    "import wave"
   ]
  },
  {
   "cell_type": "code",
   "execution_count": 3,
   "metadata": {
    "collapsed": true
   },
   "outputs": [],
   "source": [
    "# Set up directory files for the different files related to the\n",
    "# speech recognition model you are using with pocketsphinx. \n",
    "# Also provide the path to an audio file\n",
    "hmdir = '/usr/share/pocketsphinx/model/hmm/en_US/hub4wsj_sc_8k'\n",
    "lmdir = '/usr/share/pocketsphinx/model/lm/en_US/hub4.5000.DMP'\n",
    "dictd = '/usr/share/pocketsphinx/model/lm/en_US/cmu07a.dic'\n",
    "wavFile = '~/wav_sample.wav' ### Enter file path here!!!"
   ]
  },
  {
   "cell_type": "code",
   "execution_count": 4,
   "metadata": {
    "collapsed": false
   },
   "outputs": [],
   "source": [
    "# Create a new PocketSphinx configuration object\n",
    "config = ps.Decoder.default_config()"
   ]
  },
  {
   "cell_type": "code",
   "execution_count": 5,
   "metadata": {
    "collapsed": true
   },
   "outputs": [],
   "source": [
    "# Update the configuration object with the model file paths above\n",
    "config.set_string('-hmm', hmdir)\n",
    "config.set_string('-lm',lmdir)\n",
    "config.set_string('-dict',dictd)"
   ]
  },
  {
   "cell_type": "code",
   "execution_count": 14,
   "metadata": {
    "collapsed": true
   },
   "outputs": [],
   "source": [
    "# Create a new decoder (this may be a redundant step--- I kept it just to make the variable below work correctly)\n",
    "decoder = ps.Decoder(config)"
   ]
  },
  {
   "cell_type": "code",
   "execution_count": 15,
   "metadata": {
    "collapsed": false
   },
   "outputs": [],
   "source": [
    "# Start the utterance in the decoder\n",
    "decoder.start_utt()"
   ]
  },
  {
   "cell_type": "code",
   "execution_count": 16,
   "metadata": {
    "collapsed": true
   },
   "outputs": [],
   "source": [
    "# Open the audio file to the stream\n",
    "stream = open(wavFile, 'rb')"
   ]
  },
  {
   "cell_type": "code",
   "execution_count": 17,
   "metadata": {
    "collapsed": true
   },
   "outputs": [],
   "source": [
    "# Read and process the audio's speech in chunks of 1024 samples\n",
    "while True:\n",
    "    buf = stream.read(1024)\n",
    "    if buf:\n",
    "        decoder.process_raw(buf, False, False)\n",
    "    else:\n",
    "        break\n",
    "decoder.end_utt()"
   ]
  },
  {
   "cell_type": "code",
   "execution_count": 18,
   "metadata": {
    "collapsed": false,
    "scrolled": true
   },
   "outputs": [
    {
     "name": "stdout",
     "output_type": "stream",
     "text": [
      "('Best hypothesis segments: ', ['<s>', 'that(2)', \"don't\", 'call', '<sil>', 'it', 'took', 'over', 'it', 'on', 'what(2)', 'occurred', '<sil>', 'not', 'all', '<sil>', 'look', \"you're\", '<sil>', '<sil>', \"won't\", 'help', 'but', 'overall', '<sil>', '<sil>', '<sil>', 'get(2)', 'of', 'took', '<sil>', 'an(2)', 'average(3)', 'trip', '<sil>', '<sil>', 'and', 'it', 'runs', 'at', 'what(2)', 'it', '<sil>', 'you', \"can't\", 'explain', 'it', '<sil>', 'took', 'but', \"you'd(2)\", 'into(2)', 'but', '<sil>', \"don't\", 'have', 'then', 'as', '<sil>', 'that(2)', 'different(2)', 'the', 'open', '<sil>', '<sil>', '<sil>', '</s>'])\n"
     ]
    }
   ],
   "source": [
    "# Print out the individual segment words\n",
    "print ('Best hypothesis segments: ', [seg.word for seg in decoder.seg()])"
   ]
  },
  {
   "cell_type": "code",
   "execution_count": 19,
   "metadata": {
    "collapsed": false
   },
   "outputs": [
    {
     "name": "stdout",
     "output_type": "stream",
     "text": [
      "<s>   -19 1652 1692\n",
      "that(2)   -1738 1693 1745\n",
      "don't   -17 1746 1834\n",
      "call   -18678 1835 1857\n",
      "<sil>   -17 1858 1909\n",
      "it   -21049 1910 1917\n",
      "took   -39071 1918 1932\n",
      "over   -25872 1933 1945\n",
      "it   -43 1946 1997\n",
      "on   -352 1998 2005\n",
      "what(2)   -1785 2006 2039\n",
      "occurred   -21763 2040 2081\n",
      "<sil>   -6 2082 2132\n",
      "not   -28744 2133 2174\n",
      "all   -3752 2175 2191\n",
      "<sil>   -4 2192 2209\n",
      "look   -9 2210 2261\n",
      "you're   -26365 2262 2283\n",
      "<sil>   -275 2284 2293\n",
      "<sil>   -3 2294 2330\n",
      "won't   -51368 2331 2370\n",
      "help   -29106 2371 2392\n",
      "but   -8137 2393 2424\n",
      "overall   -2053 2425 2457\n",
      "<sil>   -3230 2458 2464\n",
      "<sil>   -3 2465 2482\n",
      "<sil>   -109 2483 2505\n",
      "get(2)   -39063 2506 2531\n",
      "of   -39642 2532 2541\n",
      "took   -47857 2542 2566\n",
      "<sil>   -33 2567 2577\n",
      "an(2)   -27897 2578 2588\n",
      "average(3)   -23268 2589 2616\n",
      "trip   -38784 2617 2652\n",
      "<sil>   -11446 2653 2658\n",
      "<sil>   0 2659 2713\n",
      "and   -19705 2714 2724\n",
      "it   -17028 2725 2738\n",
      "runs   -16633 2739 2767\n",
      "at   -2 2768 2800\n",
      "what(2)   -11589 2801 2824\n",
      "it   -1474 2825 2843\n",
      "<sil>   4 2844 2901\n",
      "you   -25091 2902 2909\n",
      "can't   -4383 2910 2950\n",
      "explain   -6715 2951 2996\n",
      "it   -11814 2997 3013\n",
      "<sil>   4 3014 3063\n",
      "took   3 3064 3121\n",
      "but   -700 3122 3155\n",
      "you'd(2)   -791 3156 3168\n",
      "into(2)   -28931 3169 3189\n",
      "but   -51674 3190 3217\n",
      "<sil>   4 3218 3258\n",
      "don't   9 3259 3329\n",
      "have   -5 3330 3340\n",
      "then   -27240 3341 3360\n",
      "as   -3860 3361 3395\n",
      "<sil>   6 3396 3461\n",
      "that(2)   -56103 3462 3484\n",
      "different(2)   -59572 3485 3563\n",
      "the   -63883 3564 3569\n",
      "open   -37430 3570 3612\n",
      "<sil>   -3573 3613 3624\n",
      "<sil>   -15 3625 3638\n",
      "<sil>   0 3639 3651\n",
      "</s>   0 3652 3686\n"
     ]
    }
   ],
   "source": [
    "# See where the start and end frames were for each word\n",
    "for x in decoder.seg():\n",
    "    print x.word, ' ', x.prob, x.start_frame, x.end_frame"
   ]
  },
  {
   "cell_type": "code",
   "execution_count": 20,
   "metadata": {
    "collapsed": false
   },
   "outputs": [
    {
     "data": {
      "text/plain": [
       "\"that don't call it took over it on what occurred not all look you're won't help but overall get of took an average trip and it runs at what it you can't explain it took but you'd into but don't have then as that different the open\""
      ]
     },
     "execution_count": 20,
     "metadata": {},
     "output_type": "execute_result"
    }
   ],
   "source": [
    "# Output the decoder's hypotheses to a single string\n",
    "decoder.hyp().hypstr"
   ]
  }
 ],
 "metadata": {
  "kernelspec": {
   "display_name": "Python 2",
   "language": "python",
   "name": "python2"
  },
  "language_info": {
   "codemirror_mode": {
    "name": "ipython",
    "version": 2
   },
   "file_extension": ".py",
   "mimetype": "text/x-python",
   "name": "python",
   "nbconvert_exporter": "python",
   "pygments_lexer": "ipython2",
   "version": "2.7.10"
  }
 },
 "nbformat": 4,
 "nbformat_minor": 0
}
