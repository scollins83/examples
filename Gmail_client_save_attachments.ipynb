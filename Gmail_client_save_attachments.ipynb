{
 "cells": [
  {
   "cell_type": "markdown",
   "metadata": {},
   "source": [
    "# Using Gmail - Google API"
   ]
  },
  {
   "cell_type": "markdown",
   "metadata": {},
   "source": [
    "#### Find the e-mails in gmail"
   ]
  },
  {
   "cell_type": "markdown",
   "metadata": {
    "collapsed": true
   },
   "source": [
    "This script relies heavily on functionality stemming from Google's Gmail API, as indicatedin this python quickstart. \n",
    "https://developers.google.com/gmail/api/quickstart/python\n",
    "\n",
    "Many of the functions and methods illustrated here come from the Google Python documentation. This script doesn't really present anything new, but serves as a working example. \n",
    "\n",
    "I used this script to download attachments in bulk from a mobile phone app that exported its data as .csv files distributed via e-mail. \n",
    "\n",
    "<b>Note-- In order for this script to work correctly, you MUST do the tutorial as written in the link above. Also, when completing that tutorial, in order to be able to switch 'folders' (aka: Labels) for messages, you must set the scope variables to end in 'gmail.modify' rather than 'gmail.readonly' in the quickstart.py script, as well as in the scope variable below</br>"
   ]
  },
  {
   "cell_type": "code",
   "execution_count": 202,
   "metadata": {
    "collapsed": true
   },
   "outputs": [],
   "source": [
    "# Import statements\n",
    "from __future__ import print_function\n",
    "import httplib2\n",
    "import os\n",
    "\n",
    "from apiclient import discovery\n",
    "from apiclient import errors\n",
    "import oauth2client\n",
    "from oauth2client import client\n",
    "from oauth2client import tools\n",
    "import base64\n",
    "\n",
    "import pandas as pd"
   ]
  },
  {
   "cell_type": "markdown",
   "metadata": {},
   "source": [
    "### Scope variables"
   ]
  },
  {
   "cell_type": "code",
   "execution_count": 203,
   "metadata": {
    "collapsed": true
   },
   "outputs": [],
   "source": [
    "# NOTE: The application name is \n",
    "# If modifying these scopes, delete your previously saved credentials\n",
    "# at ~/.credentials/gmail-python-quickstart.json\n",
    "SCOPES = 'https://www.googleapis.com/auth/gmail.modify'\n",
    "CLIENT_SECRET_FILE = 'client_secret.json'\n",
    "APPLICATION_NAME = 'Gmail API Python Quickstart'"
   ]
  },
  {
   "cell_type": "markdown",
   "metadata": {},
   "source": [
    "### Function definition --- all of these functions are defined in the Gmail API documentation as samples"
   ]
  },
  {
   "cell_type": "code",
   "execution_count": 204,
   "metadata": {
    "collapsed": true
   },
   "outputs": [],
   "source": [
    "def get_credentials():\n",
    "    \"\"\"Gets valid user credentials from storage.\n",
    "\n",
    "    If nothing has been stored, or if the stored credentials are invalid,\n",
    "    the OAuth2 flow is completed to obtain the new credentials.\n",
    "\n",
    "    Returns:\n",
    "        Credentials, the obtained credential.\n",
    "        \n",
    "    NOTE: This probably won't work if you haven't completed step 1 of the Google quick start link listed at the top of this notebook.\n",
    "    \"\"\"\n",
    "    home_dir = os.path.expanduser('~')\n",
    "    credential_dir = os.path.join(home_dir, '.credentials')\n",
    "    if not os.path.exists(credential_dir):\n",
    "        os.makedirs(credential_dir)\n",
    "    credential_path = os.path.join(credential_dir,\n",
    "                                   'gmail-python-quickstart.json')\n",
    "\n",
    "    store = oauth2client.file.Storage(credential_path)\n",
    "    credentials = store.get()\n",
    "    if not credentials or credentials.invalid:\n",
    "        flow = client.flow_from_clientsecrets(CLIENT_SECRET_FILE, SCOPES)\n",
    "        flow.user_agent = APPLICATION_NAME\n",
    "        if flags:\n",
    "            credentials = tools.run_flow(flow, store, flags)\n",
    "        else: # Needed only for compatibility with Python 2.6\n",
    "            credentials = tools.run(flow, store)\n",
    "        print('Storing credentials to ' + credential_path)\n",
    "    return credentials"
   ]
  },
  {
   "cell_type": "code",
   "execution_count": 205,
   "metadata": {
    "collapsed": false
   },
   "outputs": [],
   "source": [
    "def ListMessagesMatchingQuery(service, user_id, query=''):\n",
    "  \"\"\"List all Messages of the user's mailbox matching the query.\n",
    "\n",
    "  Args:\n",
    "    service: Authorized Gmail API service instance.\n",
    "    user_id: User's email address. The special value \"me\"\n",
    "    can be used to indicate the authenticated user.\n",
    "    query: String used to filter messages returned.\n",
    "    Eg.- 'from:user@some_domain.com' for Messages from a particular sender.\n",
    "\n",
    "  Returns:\n",
    "    List of Messages that match the criteria of the query. Note that the\n",
    "    returned list contains Message IDs, you must use get with the\n",
    "    appropriate ID to get the details of a Message.\n",
    "  \"\"\"\n",
    "  try:\n",
    "    response = service.users().messages().list(userId=user_id,\n",
    "                                               q=query).execute()\n",
    "    messages = []\n",
    "    if 'messages' in response:\n",
    "      messages.extend(response['messages'])\n",
    "\n",
    "    while 'nextPageToken' in response:\n",
    "      page_token = response['nextPageToken']\n",
    "      response = service.users().messages().list(userId=user_id, q=query,\n",
    "                                         pageToken=page_token).execute()\n",
    "      messages.extend(response['messages'])\n",
    "\n",
    "    return messages\n",
    "  except errors.HttpError, error:\n",
    "    print %error"
   ]
  },
  {
   "cell_type": "code",
   "execution_count": 206,
   "metadata": {
    "collapsed": false
   },
   "outputs": [],
   "source": [
    "def ListMessagesWithLabels(service, user_id, label_ids=[]):\n",
    "  \"\"\"List all Messages of the user's mailbox with label_ids applied.\n",
    "\n",
    "  Args:\n",
    "    service: Authorized Gmail API service instance.\n",
    "    user_id: User's email address. The special value \"me\"\n",
    "    can be used to indicate the authenticated user.\n",
    "    label_ids: Only return Messages with these labelIds applied.\n",
    "\n",
    "  Returns:\n",
    "    List of Messages that have all required Labels applied. Note that the\n",
    "    returned list contains Message IDs, you must use get with the\n",
    "    appropriate id to get the details of a Message.\n",
    "  \"\"\"\n",
    "  try:\n",
    "    response = service.users().messages().list(userId=user_id,\n",
    "                                               labelIds=label_ids).execute()\n",
    "    messages = []\n",
    "    if 'messages' in response:\n",
    "      messages.extend(response['messages'])\n",
    "\n",
    "    while 'nextPageToken' in response:\n",
    "      page_token = response['nextPageToken']\n",
    "      response = service.users().messages().list(userId=user_id,\n",
    "                                                 labelIds=label_ids,\n",
    "                                                 pageToken=page_token).execute()\n",
    "      messages.extend(response['messages'])\n",
    "\n",
    "    return messages\n",
    "  except errors.HttpError, error:\n",
    "        print % error"
   ]
  },
  {
   "cell_type": "code",
   "execution_count": 207,
   "metadata": {
    "collapsed": false
   },
   "outputs": [],
   "source": [
    "def GetAttachments(service, user_id, msg_id, store_dir):\n",
    "  \"\"\"Get and store attachment from Message with given id.\n",
    "\n",
    "  Args:\n",
    "    service: Authorized Gmail API service instance.\n",
    "    user_id: User's email address. The special value \"me\"\n",
    "    can be used to indicate the authenticated user.\n",
    "    msg_id: ID of Message containing attachment.\n",
    "    store_dir: The directory used to store attachments.\n",
    "  \"\"\"\n",
    "  try:\n",
    "    message = service.users().messages().get(userId=user_id, id=msg_id).execute()\n",
    "\n",
    "    for part in message['payload']['parts']:\n",
    "      if part['filename']:\n",
    "        attID = part['body']['attachmentId']\n",
    "        #file_data = base64.urlsafe_b64decode(att_pad_correct.encode('UTF-7'))\n",
    "\n",
    "        path = ''.join([store_dir, part['filename']])\n",
    "        \n",
    "        newfile = service.users().messages().attachments().get(userId='me', messageId=msg_ids.id[0], id=attID).execute()\n",
    "        file_data = base64.urlsafe_b64decode(str(newfile['data']).encode('UTF-7'))\n",
    "        f = open(path, 'w')\n",
    "        f.write(file_data)\n",
    "        f.close()\n",
    "\n",
    "  except errors.HttpError, error:\n",
    "    print % error"
   ]
  },
  {
   "cell_type": "code",
   "execution_count": 208,
   "metadata": {
    "collapsed": false
   },
   "outputs": [],
   "source": [
    "\"\"\"Modify an existing Message's Labels.\n",
    "\"\"\"\n",
    "\n",
    "#from apiclient import errors\n",
    "\n",
    "\n",
    "def ModifyMessage(service, user_id, msg_id, msg_labels):\n",
    "  \"\"\"Modify the Labels on the given Message.\n",
    "\n",
    "  Args:\n",
    "    service: Authorized Gmail API service instance.\n",
    "    user_id: User's email address. The special value \"me\"\n",
    "    can be used to indicate the authenticated user.\n",
    "    msg_id: The id of the message required.\n",
    "    msg_labels: The change in labels.\n",
    "\n",
    "  Returns:\n",
    "    Modified message, containing updated labelIds, id and threadId.\n",
    "  \"\"\"\n",
    "  try:\n",
    "    message = service.users().messages().modify(userId=user_id, id=msg_id,\n",
    "                                                body=msg_labels).execute()\n",
    "\n",
    "    label_ids = message['labelIds']\n",
    "\n",
    "    print('Message ID: %s - With Label IDs %s' % (msg_id, label_ids))\n",
    "    return message\n",
    "  except errors.HttpError, error:\n",
    "    print('An error occurred: %s' % error)\n",
    "\n",
    "\n",
    "def CreateMsgLabels(a, b):\n",
    "  \"\"\"Create object to update labels.\n",
    "\n",
    "  Returns:\n",
    "    A label update object.\n",
    "  \"\"\"\n",
    "  return {'removeLabelIds': b, 'addLabelIds': a}"
   ]
  },
  {
   "cell_type": "markdown",
   "metadata": {},
   "source": [
    "### Code to save attachments from messages satisfying a search condition"
   ]
  },
  {
   "cell_type": "code",
   "execution_count": 209,
   "metadata": {
    "collapsed": false
   },
   "outputs": [],
   "source": [
    "# Authorizes credentials obtained through the 'get_credentials' function\n",
    "credentials = get_credentials()\n",
    "http = credentials.authorize(httplib2.Http())\n",
    "service = discovery.build('gmail', 'v1', http=http)"
   ]
  },
  {
   "cell_type": "code",
   "execution_count": 210,
   "metadata": {
    "collapsed": false
   },
   "outputs": [
    {
     "data": {
      "text/plain": [
       "{u'https://www.googleapis.com/auth/gmail.modify'}"
      ]
     },
     "execution_count": 210,
     "metadata": {},
     "output_type": "execute_result"
    }
   ],
   "source": [
    "# Double check the scope. If you have 'read-only' as opposed to at least 'modify', the attachment saving will work,\n",
    "# but the message re-labeling portion won't\n",
    "credentials.retrieve_scopes(http)"
   ]
  },
  {
   "cell_type": "code",
   "execution_count": 211,
   "metadata": {
    "collapsed": false
   },
   "outputs": [],
   "source": [
    "# Find all messages where a particular subject. In this case, the subject from the app has the '.csv' at the end\n",
    "# The query you would use here should be the same as what you would enter into the GUI search box\n",
    "messages = ListMessagesMatchingQuery(service, 'me', query='subject:*.csv')"
   ]
  },
  {
   "cell_type": "code",
   "execution_count": 212,
   "metadata": {
    "collapsed": false
   },
   "outputs": [
    {
     "data": {
      "text/plain": [
       "97"
      ]
     },
     "execution_count": 212,
     "metadata": {},
     "output_type": "execute_result"
    }
   ],
   "source": [
    "# Check the number of messages\n",
    "len(messages)"
   ]
  },
  {
   "cell_type": "code",
   "execution_count": 213,
   "metadata": {
    "collapsed": false
   },
   "outputs": [
    {
     "data": {
      "text/plain": [
       "[{u'id': u'152ffeb5592fab4f', u'threadId': u'152ffeb5592fab4f'},\n",
       " {u'id': u'152ffeb0f0b81b59', u'threadId': u'152ffeb0f0b81b59'},\n",
       " {u'id': u'152ffeab5a752cab', u'threadId': u'152ffeab5a752cab'},\n",
       " {u'id': u'152fc1e60a8acfd8', u'threadId': u'152fc1e60a8acfd8'},\n",
       " {u'id': u'152fc1728bbfd1bc', u'threadId': u'152fc16e279a432d'}]"
      ]
     },
     "execution_count": 213,
     "metadata": {},
     "output_type": "execute_result"
    }
   ],
   "source": [
    "# Check the id fields obtained from the messages\n",
    "messages[0:5]"
   ]
  },
  {
   "cell_type": "code",
   "execution_count": 214,
   "metadata": {
    "collapsed": false
   },
   "outputs": [],
   "source": [
    "# Put the id fields into a dataframe\n",
    "msg_ids = pd.DataFrame(messages)"
   ]
  },
  {
   "cell_type": "code",
   "execution_count": 215,
   "metadata": {
    "collapsed": false
   },
   "outputs": [
    {
     "data": {
      "text/html": [
       "<div>\n",
       "<table border=\"1\" class=\"dataframe\">\n",
       "  <thead>\n",
       "    <tr style=\"text-align: right;\">\n",
       "      <th></th>\n",
       "      <th>id</th>\n",
       "      <th>threadId</th>\n",
       "    </tr>\n",
       "  </thead>\n",
       "  <tbody>\n",
       "    <tr>\n",
       "      <th>0</th>\n",
       "      <td>152ffeb5592fab4f</td>\n",
       "      <td>152ffeb5592fab4f</td>\n",
       "    </tr>\n",
       "    <tr>\n",
       "      <th>1</th>\n",
       "      <td>152ffeb0f0b81b59</td>\n",
       "      <td>152ffeb0f0b81b59</td>\n",
       "    </tr>\n",
       "    <tr>\n",
       "      <th>2</th>\n",
       "      <td>152ffeab5a752cab</td>\n",
       "      <td>152ffeab5a752cab</td>\n",
       "    </tr>\n",
       "    <tr>\n",
       "      <th>3</th>\n",
       "      <td>152fc1e60a8acfd8</td>\n",
       "      <td>152fc1e60a8acfd8</td>\n",
       "    </tr>\n",
       "    <tr>\n",
       "      <th>4</th>\n",
       "      <td>152fc1728bbfd1bc</td>\n",
       "      <td>152fc16e279a432d</td>\n",
       "    </tr>\n",
       "  </tbody>\n",
       "</table>\n",
       "</div>"
      ],
      "text/plain": [
       "                 id          threadId\n",
       "0  152ffeb5592fab4f  152ffeb5592fab4f\n",
       "1  152ffeb0f0b81b59  152ffeb0f0b81b59\n",
       "2  152ffeab5a752cab  152ffeab5a752cab\n",
       "3  152fc1e60a8acfd8  152fc1e60a8acfd8\n",
       "4  152fc1728bbfd1bc  152fc16e279a432d"
      ]
     },
     "execution_count": 215,
     "metadata": {},
     "output_type": "execute_result"
    }
   ],
   "source": [
    "# Check the head of msg_ids, just to make sure the df makes sense\n",
    "msg_ids.head()"
   ]
  },
  {
   "cell_type": "code",
   "execution_count": 216,
   "metadata": {
    "collapsed": true
   },
   "outputs": [],
   "source": [
    "# Define a directory you want to use to store the attachments\n",
    "directory = '/Dir/Path/Goes/Here/'"
   ]
  },
  {
   "cell_type": "code",
   "execution_count": 217,
   "metadata": {
    "collapsed": false
   },
   "outputs": [],
   "source": [
    "# Loop through the list of message ids. For each id, get the attachments, and save them to the directory. \n",
    "for x in msg_ids['id']:\n",
    "    GetAttachments(service, 'me', x, directory)"
   ]
  },
  {
   "cell_type": "markdown",
   "metadata": {},
   "source": [
    "### Change the labels on the messages to mark as read, and to move from inbox to specified folder"
   ]
  },
  {
   "cell_type": "code",
   "execution_count": 218,
   "metadata": {
    "collapsed": false
   },
   "outputs": [],
   "source": [
    "# Get a list of the Folder Labels within the Gmail account\n",
    "results = service.users().labels().list(userId='me').execute()\n",
    "labels = results.get('labels', [])"
   ]
  },
  {
   "cell_type": "code",
   "execution_count": 241,
   "metadata": {
    "collapsed": false
   },
   "outputs": [
    {
     "name": "stdout",
     "output_type": "stream",
     "text": [
      "LabelID: LabelName\n",
      "------------------\n",
      "CATEGORY_PERSONAL: CATEGORY_PERSONAL\n",
      "CATEGORY_SOCIAL: CATEGORY_SOCIAL\n",
      "Label_3: PowerliftingData\n",
      "IMPORTANT: IMPORTANT\n",
      "CATEGORY_UPDATES: CATEGORY_UPDATES\n",
      "CATEGORY_FORUMS: CATEGORY_FORUMS\n",
      "CHAT: CHAT\n",
      "SENT: SENT\n",
      "INBOX: INBOX\n",
      "TRASH: TRASH\n",
      "CATEGORY_PROMOTIONS: CATEGORY_PROMOTIONS\n",
      "DRAFT: DRAFT\n",
      "SPAM: SPAM\n",
      "STARRED: STARRED\n",
      "UNREAD: UNREAD\n"
     ]
    }
   ],
   "source": [
    "# Print the label list\n",
    "if not labels:\n",
    "    print('No labels found.')\n",
    "else:\n",
    "  print('LabelID: LabelName')\n",
    "  print('------------------')\n",
    "  for label in labels:\n",
    "    print(label['id'] + \": \" + label['name'])"
   ]
  },
  {
   "cell_type": "code",
   "execution_count": 195,
   "metadata": {
    "collapsed": false
   },
   "outputs": [],
   "source": [
    "# Designate the labels you wish to add and remove to the messages\n",
    "add_labels = ['Label_3'] # Note: If this is a folder you have added, use the label's id and NOT the name\n",
    "remove_labels = ['INBOX', 'UNREAD']"
   ]
  },
  {
   "cell_type": "code",
   "execution_count": 196,
   "metadata": {
    "collapsed": false
   },
   "outputs": [],
   "source": [
    "# Create the json label change body for the http request\n",
    "lbl_body = CreateMsgLabels(add_labels, remove_labels)"
   ]
  },
  {
   "cell_type": "code",
   "execution_count": null,
   "metadata": {
    "collapsed": false
   },
   "outputs": [],
   "source": [
    "# Loop through the messages, and modify the labels\n",
    "for x in msg_ids['id']:\n",
    "    ModifyMessage(service, 'me', x, lbl_body)"
   ]
  },
  {
   "cell_type": "markdown",
   "metadata": {
    "collapsed": true
   },
   "source": [
    "### From there, load the attachment data saved earlier and analyze! "
   ]
  }
 ],
 "metadata": {
  "celltoolbar": "Raw Cell Format",
  "kernelspec": {
   "display_name": "Python 2",
   "language": "python",
   "name": "python2"
  },
  "language_info": {
   "codemirror_mode": {
    "name": "ipython",
    "version": 2
   },
   "file_extension": ".py",
   "mimetype": "text/x-python",
   "name": "python",
   "nbconvert_exporter": "python",
   "pygments_lexer": "ipython2",
   "version": "2.7.11"
  }
 },
 "nbformat": 4,
 "nbformat_minor": 0
}
